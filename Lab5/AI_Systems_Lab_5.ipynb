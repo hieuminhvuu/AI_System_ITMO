{
  "nbformat": 4,
  "nbformat_minor": 0,
  "metadata": {
    "colab": {
      "provenance": []
    },
    "kernelspec": {
      "name": "python3",
      "display_name": "Python 3"
    },
    "language_info": {
      "name": "python"
    }
  },
  "cells": [
    {
      "cell_type": "markdown",
      "source": [
        "# Import Dependencies"
      ],
      "metadata": {
        "id": "s9WTFYtHZ4tH"
      }
    },
    {
      "cell_type": "code",
      "execution_count": 1,
      "metadata": {
        "id": "br5Q5oY3Z0RT"
      },
      "outputs": [],
      "source": [
        "import numpy as np\n",
        "import pandas as pd\n",
        "\n",
        "from keras.datasets import mnist\n",
        "from sklearn.decomposition import PCA\n",
        "from sklearn.model_selection import train_test_split\n",
        "from sklearn.metrics import accuracy_score\n",
        "from sklearn.metrics import confusion_matrix\n",
        "\n",
        "import matplotlib.pyplot as plt\n",
        "from io import StringIO  \n",
        "from IPython.display import Image \n",
        "import pydotplus\n",
        "\n",
        "\n",
        "from sklearn.tree import DecisionTreeClassifier, export_graphviz\n",
        "from sklearn.decomposition import TruncatedSVD\n",
        "\n",
        "from sklearn.metrics import classification_report, accuracy_score\n",
        "\n",
        "import random\n",
        "\n",
        "list_number = 3"
      ]
    },
    {
      "cell_type": "markdown",
      "source": [
        "# Pre-processing data"
      ],
      "metadata": {
        "id": "yp7VQpcpiI0d"
      }
    },
    {
      "cell_type": "code",
      "source": [
        "(X_train, y_train), (X_pred, y_pred) = mnist.load_data()\n",
        "X_train, X_test, y_train, y_test = train_test_split(X_train, y_train, test_size=0.25, random_state=2022)"
      ],
      "metadata": {
        "id": "jjtLmMuWiCn7",
        "outputId": "72c088e1-8876-4c2d-905a-a81bec832103",
        "colab": {
          "base_uri": "https://localhost:8080/"
        }
      },
      "execution_count": 2,
      "outputs": [
        {
          "output_type": "stream",
          "name": "stdout",
          "text": [
            "Downloading data from https://storage.googleapis.com/tensorflow/tf-keras-datasets/mnist.npz\n",
            "11490434/11490434 [==============================] - 0s 0us/step\n"
          ]
        }
      ]
    },
    {
      "cell_type": "code",
      "source": [
        "X_train_show = X_train\n",
        "X_test_show = X_test"
      ],
      "metadata": {
        "id": "F6dXqzP-PwZ_"
      },
      "execution_count": 3,
      "outputs": []
    },
    {
      "cell_type": "markdown",
      "source": [
        "## reshape data"
      ],
      "metadata": {
        "id": "01nhtFYAq7s1"
      }
    },
    {
      "cell_type": "code",
      "source": [
        "dim = 28 * 28\n",
        "X_train = X_train.reshape(len(X_train), dim)\n",
        "X_test = X_test.reshape(len(X_test), dim)\n"
      ],
      "metadata": {
        "id": "rjr6mfRYq-Jv"
      },
      "execution_count": 4,
      "outputs": []
    },
    {
      "cell_type": "markdown",
      "source": [
        "## frequency of classes in training data"
      ],
      "metadata": {
        "id": "WCq2xa2bkavI"
      }
    },
    {
      "cell_type": "code",
      "source": [
        "cnt_unique = np.unique(y_train, return_counts=True)\n",
        "plt.figure(figsize=(12, 6))\n",
        "plt.bar(cnt_unique[0], cnt_unique[1])\n",
        "plt.title('Visualization of class distribution for the MNIST Dataset', fontsize=20, weight='bold')\n",
        "plt.xticks(cnt_unique[0], fontsize=14)\n",
        "plt.yticks(fontsize=14)\n",
        "plt.xlabel('Class', fontsize=16)\n",
        "plt.ylabel('Frequency', fontsize=16);"
      ],
      "metadata": {
        "colab": {
          "base_uri": "https://localhost:8080/",
          "height": 418
        },
        "id": "hJx4P4oJkpvN",
        "outputId": "fb38629d-7987-4b60-d0c1-2b2347872bc0"
      },
      "execution_count": 5,
      "outputs": [
        {
          "output_type": "display_data",
          "data": {
            "text/plain": [
              "<Figure size 864x432 with 1 Axes>"
            ],
            "image/png": "[encoded data removed]"
          },
          "metadata": {
            "needs_background": "light"
          }
        }
      ]
    },
    {
      "cell_type": "markdown",
      "source": [
        "# PCA"
      ],
      "metadata": {
        "id": "7h2Km1ATtdEf"
      }
    },
    {
      "cell_type": "code",
      "source": [
        "pca = PCA(svd_solver='full')\n",
        "pca_model = pca.fit(X_train)\n",
        "\n",
        "X_train_redim = pca_model.transform(X_train)\n",
        "explained_variance = np.round(np.cumsum(pca.explained_variance_ratio_), 3)\n",
        "plt.plot(np.arange(dim), explained_variance) "
      ],
      "metadata": {
        "colab": {
          "base_uri": "https://localhost:8080/",
          "height": 282
        },
        "id": "NurKbA0ateFT",
        "outputId": "c745704c-98cd-4b53-92d8-ac176526dd04"
      },
      "execution_count": 6,
      "outputs": [
        {
          "output_type": "execute_result",
          "data": {
            "text/plain": [
              "[<matplotlib.lines.Line2D at 0x7f6013ff69d0>]"
            ]
          },
          "metadata": {},
          "execution_count": 6
        },
        {
          "output_type": "display_data",
          "data": {
            "text/plain": [
              "<Figure size 432x288 with 1 Axes>"
            ],
            "image/png": "[encoded data removed]"
          },
          "metadata": {
            "needs_background": "light"
          }
        }
      ]
    },
    {
      "cell_type": "markdown",
      "source": [
        "# ? Question 1: Определите, какое минимальное количество главных компонент необходимо использовать, чтобы доля объясненной дисперсии превышала 0.80 + номер_в_списке % 10. Построить график зависимости доли объясненной дисперсии от количества используемых ГК"
      ],
      "metadata": {
        "id": "2ppen5h6v_Eq"
      }
    },
    {
      "cell_type": "code",
      "source": [
        "variant_exp = 0.8 + (list_number % 10) / 100\n",
        "pca = PCA(svd_solver='full')\n",
        "pca_model = pca.fit(X_train)\n",
        "X_train_redim = pca_model.transform(X_train)\n",
        "X_test_redim = pca_model.transform(X_test)\n",
        "explained_variance = np.round(np.cumsum(pca.explained_variance_ratio_), 3)\n",
        "\n",
        "components = 0\n",
        "cum_sum = 0\n",
        "for i in range(dim):\n",
        "  components += 1\n",
        "  cum_sum += pca.explained_variance_ratio_[i]\n",
        "  if cum_sum >= variant_exp:\n",
        "    break\n",
        "\n",
        "print(explained_variance[:components])\n",
        "\n",
        "print(\"Explained Variance: \" + str(round(cum_sum, 2)))\n",
        "print(\"Number of Components: \" + str(components))"
      ],
      "metadata": {
        "colab": {
          "base_uri": "https://localhost:8080/"
        },
        "id": "3rmYQRWWwFKv",
        "outputId": "e7896335-42e6-41f6-bced-99e11796d1ca"
      },
      "execution_count": 7,
      "outputs": [
        {
          "output_type": "stream",
          "name": "stdout",
          "text": [
            "[0.098 0.168 0.23  0.284 0.333 0.376 0.409 0.437 0.465 0.489 0.51  0.53\n",
            " 0.547 0.564 0.58  0.595 0.608 0.621 0.633 0.644 0.655 0.665 0.675 0.684\n",
            " 0.692 0.701 0.709 0.717 0.724 0.731 0.738 0.744 0.75  0.756 0.762 0.767\n",
            " 0.772 0.777 0.782 0.787 0.791 0.796 0.8   0.804 0.808 0.811 0.815 0.818\n",
            " 0.822 0.825 0.828 0.831]\n",
            "Explained Variance: 0.83\n",
            "Number of Components: 52\n"
          ]
        }
      ]
    },
    {
      "cell_type": "code",
      "source": [
        "plt.plot(np.arange(components), explained_variance[:components]) \n"
      ],
      "metadata": {
        "colab": {
          "base_uri": "https://localhost:8080/",
          "height": 282
        },
        "id": "wPN-sUN1NBc6",
        "outputId": "12ef2242-3d3a-4ecb-dcdf-3df70e370ec0"
      },
      "execution_count": 8,
      "outputs": [
        {
          "output_type": "execute_result",
          "data": {
            "text/plain": [
              "[<matplotlib.lines.Line2D at 0x7f6013f6b2e0>]"
            ]
          },
          "metadata": {},
          "execution_count": 8
        },
        {
          "output_type": "display_data",
          "data": {
            "text/plain": [
              "<Figure size 432x288 with 1 Axes>"
            ],
            "image/png": "[encoded data removed]"
          },
          "metadata": {
            "needs_background": "light"
          }
        }
      ]
    },
    {
      "cell_type": "markdown",
      "source": [
        "# Build Model"
      ],
      "metadata": {
        "id": "JzOYjE-WqL0t"
      }
    },
    {
      "cell_type": "markdown",
      "source": [
        "## Decision Tree"
      ],
      "metadata": {
        "id": "5UhPYXEAqN9d"
      }
    },
    {
      "cell_type": "code",
      "source": [
        "clf = DecisionTreeClassifier(max_depth=10, random_state=2022)\n",
        "clf.fit(X_train_redim, y_train)"
      ],
      "metadata": {
        "id": "WE9vWw3HqGcy"
      },
      "execution_count": null,
      "outputs": []
    },
    {
      "cell_type": "code",
      "source": [
        "# Convert Decision Tree to visualization\n",
        "dot_data = StringIO()\n",
        "export_graphviz(clf, out_file=dot_data,  \n",
        "                filled=True, rounded=True,\n",
        "                special_characters=True, \n",
        "                max_depth=3)\n",
        "graph = pydotplus.graph_from_dot_data(dot_data.getvalue())  \n",
        "\n",
        "# Create PNG file\n",
        "Image(graph.create_png())"
      ],
      "metadata": {
        "id": "0tPFsAEvI42U"
      },
      "execution_count": null,
      "outputs": []
    },
    {
      "cell_type": "markdown",
      "source": [
        "## Evaluate the model"
      ],
      "metadata": {
        "id": "ABhKcM7NrFYt"
      }
    },
    {
      "cell_type": "code",
      "source": [
        "train_preds_baseline = clf.predict(X_train_redim)\n",
        "test_preds_baseline = clf.predict(X_test_redim)\n",
        "\n",
        "acc_baseline_train = accuracy_score(train_preds_baseline, y_train)\n",
        "acc_baseline_val = accuracy_score(test_preds_baseline, y_test)\n",
        "\n",
        "print(f'Training accuracy for our baseline (using all pixel features): {acc_baseline_train}')\n",
        "print(f'Validation accuracy for our baseline (using all pixel features): {acc_baseline_val}')"
      ],
      "metadata": {
        "id": "mW5dlxdCrFCa"
      },
      "execution_count": null,
      "outputs": []
    },
    {
      "cell_type": "markdown",
      "source": [
        "# ? Question 2: Выведите количество верно классифицированных объектов класса номер_в_списке % 9 для тестовых данных"
      ],
      "metadata": {
        "id": "gln__PPV5zLB"
      }
    },
    {
      "cell_type": "code",
      "source": [
        "y_pred = clf.predict(X_test_redim)\n",
        "\n",
        "class_variant = list_number % 9\n",
        "cm = confusion_matrix(y_test, y_pred)\n",
        "\n",
        "print(f\"The number of class {class_variant} images is: \", cm.sum(axis=1)[class_variant])\n",
        "\n",
        "print(\"The number of correctly classified images contained in Class \" + str(class_variant) + \" is: \" \n",
        "      + str(cm[class_variant][class_variant]))\n"
      ],
      "metadata": {
        "id": "xmzDma0051_4"
      },
      "execution_count": null,
      "outputs": []
    },
    {
      "cell_type": "markdown",
      "source": [
        "# ? Question 3: Введите вероятность отнесения 5 любых изображений из тестового набора к назначенному классу"
      ],
      "metadata": {
        "id": "6ccxxOix_-dr"
      }
    },
    {
      "cell_type": "code",
      "source": [
        "num = random.randint(0, 10000)\n",
        "result = (clf.predict_proba(X_test_redim)[num])[y_pred[num]]\n",
        "plt.imshow(X_test_show[num], cmap='gray')\n",
        "print(\"The probability that picture No.\" + str(num) + \" belongs to Class \" + \n",
        "      str(y_pred[num]) + \" is: \" + str(round(result, 3)))"
      ],
      "metadata": {
        "id": "O0G5EIKJ_58-"
      },
      "execution_count": null,
      "outputs": []
    },
    {
      "cell_type": "markdown",
      "source": [
        "# ? Question 4: Определите Accuracy, Precision, Recall и F1 для обученной модели"
      ],
      "metadata": {
        "id": "Aqq5JcdmCJUs"
      }
    },
    {
      "cell_type": "code",
      "source": [
        "print(\"Accuracy: \" + str(accuracy_score(y_test, y_pred)))\n"
      ],
      "metadata": {
        "id": "-6gKVNTdCKw7"
      },
      "execution_count": null,
      "outputs": []
    },
    {
      "cell_type": "code",
      "source": [
        "print(classification_report(y_test, y_pred))"
      ],
      "metadata": {
        "id": "_d1IbqRiUlWn"
      },
      "execution_count": null,
      "outputs": []
    }
  ]
}